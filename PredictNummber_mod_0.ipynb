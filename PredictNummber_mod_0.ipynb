{
 "cells": [
  {
   "cell_type": "markdown",
   "metadata": {},
   "source": [
    "В программе генерируем случайное целое число от 0 до 100. После каждой неудачной попытки угадать число проверяется больше или меньше предсказанное число загадано, так продолжается пока число не будет отгадано.\n",
    "\n",
    "Сгенерировать случайное число. Вводим счетчик попыток. \n",
    "Проверяем является ли загаданное число больше или меньше 100/2=50\n",
    "откидываем не нужный диапазон или(1,50) или (50,100), повторяем деление нужного диапазона на 2 пока число не будет угаданно. \n",
    "Увеличивать счетчик попыток на единицу.\n",
    "Прерывать выполнение цикла,\n",
    "\n",
    "Количество предела попыток лежит 6 и 7, среднее количество попыток 5"
   ]
  },
  {
   "cell_type": "code",
   "execution_count": 1,
   "metadata": {},
   "outputs": [
    {
     "name": "stdout",
     "output_type": "stream",
     "text": [
      "Ваш алгоритм угадывает число в среднем за 5 попыток\n"
     ]
    },
    {
     "data": {
      "text/plain": [
       "5"
      ]
     },
     "execution_count": 1,
     "metadata": {},
     "output_type": "execute_result"
    }
   ],
   "source": [
    "import numpy as np\n",
    "number = np.random.randint(1,101)\n",
    "\n",
    "def predictnumber(number):\n",
    "    \n",
    "    count = 0     # counter of tries\n",
    "    left = 1      # the first boder of range\n",
    "    right = 100   # the last boder of range\n",
    "    current = -1  # number will be changed on loop running (can be also 0)\n",
    "    \n",
    "    while number!=current:\n",
    "        current = (left+right)//2 #the fist number to compare with input number in oder to find it \n",
    "        count+=1\n",
    "        if number>current:\n",
    "            left = current + 1   # change the border from left and decrease range twice\n",
    "        elif number<current:\n",
    "            right = current - 1  # change the border from right and decrease range twice\n",
    "    return(count)\n",
    "\n",
    "def score_game(game_core):\n",
    "   \n",
    "    '''Инициализируем массив count_ls, в этот массив будут записаны значения count функции predictnumber().\n",
    "    Функция predictnumber() выполнится 1000 раз, после чего будет вычислено среднее значение count_ls.'''\n",
    "    count_ls = []\n",
    "    np.random.seed(1)  # фиксируем RANDOM SEED, чтобы ваш эксперимент был воспроизводим!\n",
    "    random_array = np.random.randint(1,101, size=(1000))\n",
    "    for number in random_array:\n",
    "        count_ls.append(game_core(number))\n",
    "    score = int(np.mean(count_ls))\n",
    "    print(f\"Ваш алгоритм угадывает число в среднем за {score} попыток\")\n",
    "    return(score)\n",
    "\n",
    "# Проверяем\n",
    "score_game(predictnumber)"
   ]
  },
  {
   "cell_type": "code",
   "execution_count": null,
   "metadata": {},
   "outputs": [],
   "source": []
  }
 ],
 "metadata": {
  "kernelspec": {
   "display_name": "Python 3",
   "language": "python",
   "name": "python3"
  },
  "language_info": {
   "codemirror_mode": {
    "name": "ipython",
    "version": 3
   },
   "file_extension": ".py",
   "mimetype": "text/x-python",
   "name": "python",
   "nbconvert_exporter": "python",
   "pygments_lexer": "ipython3",
   "version": "3.6.5"
  }
 },
 "nbformat": 4,
 "nbformat_minor": 2
}
